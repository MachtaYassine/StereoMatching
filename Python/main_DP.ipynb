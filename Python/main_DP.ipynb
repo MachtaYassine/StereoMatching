{
 "cells": [
  {
   "cell_type": "code",
   "execution_count": 1,
   "metadata": {},
   "outputs": [],
   "source": [
    "from utilities.load_data import *\n",
    "from Stereo.Aggregation.aggregation import *\n",
    "from Stereo.Costs.costs import *\n",
    "from Stereo.Disparity_computing.disparty_computing import *\n",
    "from Stereo.Main_Pipeline import *"
   ]
  },
  {
   "cell_type": "markdown",
   "metadata": {},
   "source": [
    "Costs: StereoCost.SAD SSD STAD NCC\n",
    "Aggregation: fixed_window(),\n",
    "DisparityComputation: winner takes all"
   ]
  },
  {
   "cell_type": "code",
   "execution_count": 2,
   "metadata": {},
   "outputs": [],
   "source": [
    "image_name='Road'\n"
   ]
  },
  {
   "cell_type": "code",
   "execution_count": 3,
   "metadata": {},
   "outputs": [
    {
     "name": "stdout",
     "output_type": "stream",
     "text": [
      "375 1242\n"
     ]
    },
    {
     "name": "stderr",
     "output_type": "stream",
     "text": [
      "100%|██████████| 371/371 [06:32<00:00,  1.06s/it]\n",
      "100%|██████████| 375/375 [10:33<00:00,  1.69s/it]\n"
     ]
    },
    {
     "name": "stdout",
     "output_type": "stream",
     "text": [
      "(375, 1242)\n",
      "two image mode\n"
     ]
    },
    {
     "data": {
      "text/plain": [
       "array([[ 0.,  0.,  0., ...,  0.,  0.,  0.],\n",
       "       [ 0.,  0.,  0., ...,  0.,  0.,  0.],\n",
       "       [ 0., 24., 24., ..., 33.,  0.,  0.],\n",
       "       ...,\n",
       "       [ 0., 95., 95., ...,  2.,  0.,  0.],\n",
       "       [ 0.,  0.,  0., ...,  0.,  0.,  0.],\n",
       "       [ 0.,  0.,  0., ...,  0.,  0.,  0.]])"
      ]
     },
     "execution_count": 3,
     "metadata": {},
     "output_type": "execute_result"
    }
   ],
   "source": [
    "cost_function=StereoCost.STAD\n",
    "aggregation_function=fixed_window(5)\n",
    "disparity_computation=DisparityComputation(strategy='dynamic-programming')\n",
    "disparity_refinement=None\n",
    "StereoPipeline(image_name,\n",
    "                cost_function, \n",
    "                aggregation_function,\n",
    "                disparity_computation,\n",
    "                disparity_refinement,\n",
    "                max_disparity=96,\n",
    "                occlusion=70).compute_disparity_with_dp()"
   ]
  },
  {
   "cell_type": "code",
   "execution_count": 5,
   "metadata": {},
   "outputs": [
    {
     "name": "stdout",
     "output_type": "stream",
     "text": [
      "375 1242\n"
     ]
    },
    {
     "name": "stderr",
     "output_type": "stream",
     "text": [
      "100%|██████████| 371/371 [1:52:44<00:00, 18.23s/it]    \n"
     ]
    },
    {
     "ename": "KeyboardInterrupt",
     "evalue": "",
     "output_type": "error",
     "traceback": [
      "\u001b[0;31m---------------------------------------------------------------------------\u001b[0m",
      "\u001b[0;31mKeyboardInterrupt\u001b[0m                         Traceback (most recent call last)",
      "\u001b[1;32m/home/ymachta/StereoMatching/main_DP.ipynb Cell 5\u001b[0m line \u001b[0;36m1\n\u001b[1;32m      <a href='vscode-notebook-cell://wsl%2Bubuntu-18.04/home/ymachta/StereoMatching/main_DP.ipynb#W4sdnNjb2RlLXJlbW90ZQ%3D%3D?line=2'>3</a>\u001b[0m disparity_computation\u001b[39m=\u001b[39mDisparityComputation(strategy\u001b[39m=\u001b[39m\u001b[39m'\u001b[39m\u001b[39mSemiGlobalMatching\u001b[39m\u001b[39m'\u001b[39m)\n\u001b[1;32m      <a href='vscode-notebook-cell://wsl%2Bubuntu-18.04/home/ymachta/StereoMatching/main_DP.ipynb#W4sdnNjb2RlLXJlbW90ZQ%3D%3D?line=3'>4</a>\u001b[0m disparity_refinement\u001b[39m=\u001b[39m\u001b[39mNone\u001b[39;00m\n\u001b[1;32m      <a href='vscode-notebook-cell://wsl%2Bubuntu-18.04/home/ymachta/StereoMatching/main_DP.ipynb#W4sdnNjb2RlLXJlbW90ZQ%3D%3D?line=4'>5</a>\u001b[0m StereoPipeline(image_name,\n\u001b[1;32m      <a href='vscode-notebook-cell://wsl%2Bubuntu-18.04/home/ymachta/StereoMatching/main_DP.ipynb#W4sdnNjb2RlLXJlbW90ZQ%3D%3D?line=5'>6</a>\u001b[0m                 cost_function, \n\u001b[1;32m      <a href='vscode-notebook-cell://wsl%2Bubuntu-18.04/home/ymachta/StereoMatching/main_DP.ipynb#W4sdnNjb2RlLXJlbW90ZQ%3D%3D?line=6'>7</a>\u001b[0m                 aggregation_function,\n\u001b[1;32m      <a href='vscode-notebook-cell://wsl%2Bubuntu-18.04/home/ymachta/StereoMatching/main_DP.ipynb#W4sdnNjb2RlLXJlbW90ZQ%3D%3D?line=7'>8</a>\u001b[0m                 disparity_computation,\n\u001b[1;32m      <a href='vscode-notebook-cell://wsl%2Bubuntu-18.04/home/ymachta/StereoMatching/main_DP.ipynb#W4sdnNjb2RlLXJlbW90ZQ%3D%3D?line=8'>9</a>\u001b[0m                 disparity_refinement,\n\u001b[0;32m---> <a href='vscode-notebook-cell://wsl%2Bubuntu-18.04/home/ymachta/StereoMatching/main_DP.ipynb#W4sdnNjb2RlLXJlbW90ZQ%3D%3D?line=9'>10</a>\u001b[0m                 max_disparity\u001b[39m=\u001b[39;49m\u001b[39m96\u001b[39;49m)\u001b[39m.\u001b[39;49mcompute_disparity_map()\n",
      "File \u001b[0;32m~/StereoMatching/Stereo/Main_Pipeline.py:51\u001b[0m, in \u001b[0;36mStereoPipeline.compute_disparity_map\u001b[0;34m(self)\u001b[0m\n\u001b[1;32m     47\u001b[0m left_image,right_image\u001b[39m=\u001b[39m\u001b[39mself\u001b[39m\u001b[39m.\u001b[39mdataloader(\u001b[39mself\u001b[39m\u001b[39m.\u001b[39mimage_name)\u001b[39m.\u001b[39mload_images()\n\u001b[1;32m     50\u001b[0m disparity_space_image\u001b[39m=\u001b[39m\u001b[39mself\u001b[39m\u001b[39m.\u001b[39maggregation_function\u001b[39m.\u001b[39mcompute(\u001b[39mself\u001b[39m\u001b[39m.\u001b[39mcost_function,left_image, right_image, \u001b[39mself\u001b[39m\u001b[39m.\u001b[39mmax_disparity)\n\u001b[0;32m---> 51\u001b[0m log_array(\u001b[39mself\u001b[39;49m\u001b[39m.\u001b[39;49mimage_name\u001b[39m+\u001b[39;49m\u001b[39m'\u001b[39;49m\u001b[39m_disparity_space_image\u001b[39;49m\u001b[39m'\u001b[39;49m,disparity_space_image)\n\u001b[1;32m     52\u001b[0m disparity_map\u001b[39m=\u001b[39m\u001b[39mself\u001b[39m\u001b[39m.\u001b[39mdisparity_computation\u001b[39m.\u001b[39mcompute_disparity_map(disparity_space_image)\n\u001b[1;32m     53\u001b[0m log_array(\u001b[39mself\u001b[39m\u001b[39m.\u001b[39mimage_name\u001b[39m+\u001b[39m\u001b[39m'\u001b[39m\u001b[39m_disparity_map\u001b[39m\u001b[39m'\u001b[39m,disparity_map)\n",
      "File \u001b[0;32m~/StereoMatching/Stereo/Main_Pipeline.py:17\u001b[0m, in \u001b[0;36mlog_array\u001b[0;34m(name, array)\u001b[0m\n\u001b[1;32m     15\u001b[0m \u001b[39mif\u001b[39;00m \u001b[39mlen\u001b[39m(array\u001b[39m.\u001b[39mshape)\u001b[39m==\u001b[39m\u001b[39m3\u001b[39m:\n\u001b[1;32m     16\u001b[0m     \u001b[39mfor\u001b[39;00m j,element2 \u001b[39min\u001b[39;00m \u001b[39menumerate\u001b[39m(element):\n\u001b[0;32m---> 17\u001b[0m         file\u001b[39m.\u001b[39;49mwrite(\u001b[39mf\u001b[39;49m\u001b[39m'\u001b[39;49m\u001b[39mall disparity costs for coordinate \u001b[39;49m\u001b[39m{\u001b[39;49;00mi,j\u001b[39m}\u001b[39;49;00m\u001b[39m : \u001b[39;49m\u001b[39m{\u001b[39;49;00melement2\u001b[39m}\u001b[39;49;00m\u001b[39m'\u001b[39;49m \u001b[39m+\u001b[39;49m \u001b[39m\"\u001b[39;49m\u001b[39m\\n\u001b[39;49;00m\u001b[39m\"\u001b[39;49m)\n\u001b[1;32m     18\u001b[0m \u001b[39melse\u001b[39;00m:\n\u001b[1;32m     19\u001b[0m     file\u001b[39m.\u001b[39mwrite(\u001b[39mf\u001b[39m\u001b[39m'\u001b[39m\u001b[39mvalues in this row \u001b[39m\u001b[39m{\u001b[39;00mi\u001b[39m}\u001b[39;00m\u001b[39m : \u001b[39m\u001b[39m{\u001b[39;00melement\u001b[39m}\u001b[39;00m\u001b[39m'\u001b[39m \u001b[39m+\u001b[39m \u001b[39m\"\u001b[39m\u001b[39m\\n\u001b[39;00m\u001b[39m\"\u001b[39m)\n",
      "\u001b[0;31mKeyboardInterrupt\u001b[0m: "
     ]
    }
   ],
   "source": [
    "cost_function=StereoCost.STAD\n",
    "aggregation_function=fixed_window(5)\n",
    "disparity_computation=DisparityComputation(strategy='SemiGlobalMatching')\n",
    "disparity_refinement=None\n",
    "StereoPipeline(image_name,\n",
    "                cost_function, \n",
    "                aggregation_function,\n",
    "                disparity_computation,\n",
    "                disparity_refinement,\n",
    "                max_disparity=96).compute_disparity_map()"
   ]
  }
 ],
 "metadata": {
  "kernelspec": {
   "display_name": "stereo",
   "language": "python",
   "name": "python3"
  },
  "language_info": {
   "codemirror_mode": {
    "name": "ipython",
    "version": 3
   },
   "file_extension": ".py",
   "mimetype": "text/x-python",
   "name": "python",
   "nbconvert_exporter": "python",
   "pygments_lexer": "ipython3",
   "version": "3.10.0"
  },
  "orig_nbformat": 4
 },
 "nbformat": 4,
 "nbformat_minor": 2
}
