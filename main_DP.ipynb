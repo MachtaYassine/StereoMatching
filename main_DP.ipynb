{
 "cells": [
  {
   "cell_type": "code",
   "execution_count": 1,
   "metadata": {},
   "outputs": [],
   "source": [
    "from utilities.load_data import *\n",
    "from Stereo.Aggregation.aggregation import *\n",
    "from Stereo.Costs.costs import *\n",
    "from Stereo.Disparity_computing.disparty_computing import *\n",
    "from Stereo.Main_Pipeline import *"
   ]
  },
  {
   "cell_type": "markdown",
   "metadata": {},
   "source": [
    "Costs: StereoCost.SAD SSD STAD NCC\n",
    "Aggregation: fixed_window(),\n",
    "DisparityComputation: winner takes all"
   ]
  },
  {
   "cell_type": "code",
   "execution_count": 2,
   "metadata": {},
   "outputs": [],
   "source": [
    "image_name='Road'\n"
   ]
  },
  {
   "cell_type": "code",
   "execution_count": 3,
   "metadata": {},
   "outputs": [
    {
     "name": "stdout",
     "output_type": "stream",
     "text": [
      "375 1242\n"
     ]
    },
    {
     "name": "stderr",
     "output_type": "stream",
     "text": [
      "100%|██████████| 371/371 [06:47<00:00,  1.10s/it]\n",
      "100%|██████████| 375/375 [11:09<00:00,  1.78s/it]\n"
     ]
    },
    {
     "name": "stdout",
     "output_type": "stream",
     "text": [
      "(375, 1242)\n",
      "two image mode\n"
     ]
    },
    {
     "data": {
      "text/plain": [
       "array([[ 0.,  0.,  0., ...,  0.,  0.,  0.],\n",
       "       [ 0.,  0.,  0., ...,  0.,  0.,  0.],\n",
       "       [ 0., 24., 24., ..., 19.,  0.,  0.],\n",
       "       ...,\n",
       "       [ 0., 68., 68., ...,  0.,  0.,  0.],\n",
       "       [ 0.,  0.,  0., ...,  0.,  0.,  0.],\n",
       "       [ 0.,  0.,  0., ...,  0.,  0.,  0.]])"
      ]
     },
     "execution_count": 3,
     "metadata": {},
     "output_type": "execute_result"
    }
   ],
   "source": [
    "cost_function=StereoCost.STAD\n",
    "aggregation_function=fixed_window(5)\n",
    "disparity_computation=DisparityComputation(strategy='dynamic-programming')\n",
    "disparity_refinement=None\n",
    "StereoPipeline(image_name,\n",
    "                cost_function, \n",
    "                aggregation_function,\n",
    "                disparity_computation,\n",
    "                disparity_refinement,\n",
    "                max_disparity=96).compute_disparity_with_dp()"
   ]
  }
 ],
 "metadata": {
  "kernelspec": {
   "display_name": "stereo",
   "language": "python",
   "name": "python3"
  },
  "language_info": {
   "codemirror_mode": {
    "name": "ipython",
    "version": 3
   },
   "file_extension": ".py",
   "mimetype": "text/x-python",
   "name": "python",
   "nbconvert_exporter": "python",
   "pygments_lexer": "ipython3",
   "version": "3.10.0"
  },
  "orig_nbformat": 4
 },
 "nbformat": 4,
 "nbformat_minor": 2
}
