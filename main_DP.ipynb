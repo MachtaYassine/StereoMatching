{
 "cells": [
  {
   "cell_type": "code",
   "execution_count": 1,
   "metadata": {},
   "outputs": [],
   "source": [
    "from utilities.load_data import *\n",
    "from Stereo.Aggregation.aggregation import *\n",
    "from Stereo.Costs.costs import *\n",
    "from Stereo.Disparity_computing.disparty_computing import *\n",
    "from Stereo.Main_Pipeline import *"
   ]
  },
  {
   "cell_type": "markdown",
   "metadata": {},
   "source": [
    "Costs: StereoCost.SAD SSD STAD NCC\n",
    "Aggregation: fixed_window(),\n",
    "DisparityComputation: winner takes all"
   ]
  },
  {
   "cell_type": "code",
   "execution_count": 2,
   "metadata": {},
   "outputs": [],
   "source": [
    "image_name='Road'\n"
   ]
  },
  {
   "cell_type": "code",
   "execution_count": 3,
   "metadata": {},
   "outputs": [
    {
     "name": "stdout",
     "output_type": "stream",
     "text": [
      "375 1242\n"
     ]
    },
    {
     "name": "stderr",
     "output_type": "stream",
     "text": [
      "  0%|          | 0/371 [00:00<?, ?it/s]"
     ]
    },
    {
     "name": "stderr",
     "output_type": "stream",
     "text": [
      "100%|██████████| 371/371 [05:11<00:00,  1.19it/s]\n"
     ]
    },
    {
     "ename": "TypingError",
     "evalue": "Failed in nopython mode pipeline (step: nopython frontend)\nUntyped global name 'tqdm': Cannot determine Numba type of <class 'type'>\n\nFile \"Stereo/Disparity_computing/disparty_computing.py\", line 55:\n    def dynamic_programming(self,cost_volume):\n        <source elided>\n\n        for y in tqdm(range(nRow)):\n        ^ \n\nThis error may have been caused by the following argument(s):\n- argument 0: Cannot determine Numba type of <class 'Stereo.Disparity_computing.disparty_computing.DisparityComputation'>\n",
     "output_type": "error",
     "traceback": [
      "\u001b[0;31m---------------------------------------------------------------------------\u001b[0m",
      "\u001b[0;31mTypingError\u001b[0m                               Traceback (most recent call last)",
      "\u001b[1;32m/home/ymachta/StereoMatching/main_DP.ipynb Cell 4\u001b[0m line \u001b[0;36m1\n\u001b[1;32m      <a href='vscode-notebook-cell://wsl%2Bubuntu/home/ymachta/StereoMatching/main_DP.ipynb#W3sdnNjb2RlLXJlbW90ZQ%3D%3D?line=2'>3</a>\u001b[0m disparity_computation\u001b[39m=\u001b[39mDisparityComputation(strategy\u001b[39m=\u001b[39m\u001b[39m'\u001b[39m\u001b[39mdynamic-programming\u001b[39m\u001b[39m'\u001b[39m)\n\u001b[1;32m      <a href='vscode-notebook-cell://wsl%2Bubuntu/home/ymachta/StereoMatching/main_DP.ipynb#W3sdnNjb2RlLXJlbW90ZQ%3D%3D?line=3'>4</a>\u001b[0m disparity_refinement\u001b[39m=\u001b[39m\u001b[39mNone\u001b[39;00m\n\u001b[1;32m      <a href='vscode-notebook-cell://wsl%2Bubuntu/home/ymachta/StereoMatching/main_DP.ipynb#W3sdnNjb2RlLXJlbW90ZQ%3D%3D?line=4'>5</a>\u001b[0m StereoPipeline(image_name,\n\u001b[1;32m      <a href='vscode-notebook-cell://wsl%2Bubuntu/home/ymachta/StereoMatching/main_DP.ipynb#W3sdnNjb2RlLXJlbW90ZQ%3D%3D?line=5'>6</a>\u001b[0m                 cost_function, \n\u001b[1;32m      <a href='vscode-notebook-cell://wsl%2Bubuntu/home/ymachta/StereoMatching/main_DP.ipynb#W3sdnNjb2RlLXJlbW90ZQ%3D%3D?line=6'>7</a>\u001b[0m                 aggregation_function,\n\u001b[1;32m      <a href='vscode-notebook-cell://wsl%2Bubuntu/home/ymachta/StereoMatching/main_DP.ipynb#W3sdnNjb2RlLXJlbW90ZQ%3D%3D?line=7'>8</a>\u001b[0m                 disparity_computation,\n\u001b[1;32m      <a href='vscode-notebook-cell://wsl%2Bubuntu/home/ymachta/StereoMatching/main_DP.ipynb#W3sdnNjb2RlLXJlbW90ZQ%3D%3D?line=8'>9</a>\u001b[0m                 disparity_refinement,\n\u001b[0;32m---> <a href='vscode-notebook-cell://wsl%2Bubuntu/home/ymachta/StereoMatching/main_DP.ipynb#W3sdnNjb2RlLXJlbW90ZQ%3D%3D?line=9'>10</a>\u001b[0m                 max_disparity\u001b[39m=\u001b[39;49m\u001b[39m96\u001b[39;49m)\u001b[39m.\u001b[39;49mcompute_disparity_with_dp()\n",
      "File \u001b[0;32m~/StereoMatching/Stereo/Main_Pipeline.py:59\u001b[0m, in \u001b[0;36mStereoPipeline.compute_disparity_with_dp\u001b[0;34m(self)\u001b[0m\n\u001b[1;32m     57\u001b[0m left_image,right_image\u001b[39m=\u001b[39m\u001b[39mself\u001b[39m\u001b[39m.\u001b[39mdataloader(\u001b[39mself\u001b[39m\u001b[39m.\u001b[39mimage_name)\u001b[39m.\u001b[39mload_images()\n\u001b[1;32m     58\u001b[0m disparity_space_image\u001b[39m=\u001b[39m\u001b[39mself\u001b[39m\u001b[39m.\u001b[39maggregation_function\u001b[39m.\u001b[39mcompute(\u001b[39mself\u001b[39m\u001b[39m.\u001b[39mcost_function,left_image, right_image, \u001b[39mself\u001b[39m\u001b[39m.\u001b[39mmax_disparity)\n\u001b[0;32m---> 59\u001b[0m disparity_left , disparity_right\u001b[39m=\u001b[39m\u001b[39mself\u001b[39;49m\u001b[39m.\u001b[39;49mdisparity_computation\u001b[39m.\u001b[39;49mcompute_disparity_map(disparity_space_image)\n\u001b[1;32m     60\u001b[0m log_array(\u001b[39mself\u001b[39m\u001b[39m.\u001b[39mimage_name\u001b[39m+\u001b[39m\u001b[39m'\u001b[39m\u001b[39m_disparity_left\u001b[39m\u001b[39m'\u001b[39m,disparity_left)\n\u001b[1;32m     61\u001b[0m log_array(\u001b[39mself\u001b[39m\u001b[39m.\u001b[39mimage_name\u001b[39m+\u001b[39m\u001b[39m'\u001b[39m\u001b[39m_disparity_right\u001b[39m\u001b[39m'\u001b[39m,disparity_right)\n",
      "File \u001b[0;32m~/StereoMatching/Stereo/Disparity_computing/disparty_computing.py:25\u001b[0m, in \u001b[0;36mDisparityComputation.compute_disparity_map\u001b[0;34m(self, cost_volume)\u001b[0m\n\u001b[1;32m     23\u001b[0m     \u001b[39mreturn\u001b[39;00m \u001b[39mself\u001b[39m\u001b[39m.\u001b[39msemi_global_matching(cost_volume)\n\u001b[1;32m     24\u001b[0m \u001b[39melif\u001b[39;00m \u001b[39mself\u001b[39m\u001b[39m.\u001b[39mstrategy \u001b[39m==\u001b[39m \u001b[39m'\u001b[39m\u001b[39mdynamic-programming\u001b[39m\u001b[39m'\u001b[39m:\n\u001b[0;32m---> 25\u001b[0m     \u001b[39mreturn\u001b[39;00m \u001b[39mself\u001b[39;49m\u001b[39m.\u001b[39;49mdynamic_programming(cost_volume)\n\u001b[1;32m     26\u001b[0m \u001b[39melif\u001b[39;00m \u001b[39mself\u001b[39m\u001b[39m.\u001b[39mstrategy \u001b[39m==\u001b[39m \u001b[39m'\u001b[39m\u001b[39mgraph-cuts\u001b[39m\u001b[39m'\u001b[39m:\n\u001b[1;32m     27\u001b[0m     \u001b[39mreturn\u001b[39;00m \u001b[39mself\u001b[39m\u001b[39m.\u001b[39mgraph_cuts()\n",
      "File \u001b[0;32m~/miniconda3/envs/stereo/lib/python3.10/site-packages/numba/core/dispatcher.py:468\u001b[0m, in \u001b[0;36m_DispatcherBase._compile_for_args\u001b[0;34m(self, *args, **kws)\u001b[0m\n\u001b[1;32m    464\u001b[0m         msg \u001b[39m=\u001b[39m (\u001b[39mf\u001b[39m\u001b[39m\"\u001b[39m\u001b[39m{\u001b[39;00m\u001b[39mstr\u001b[39m(e)\u001b[39m.\u001b[39mrstrip()\u001b[39m}\u001b[39;00m\u001b[39m \u001b[39m\u001b[39m\\n\u001b[39;00m\u001b[39m\\n\u001b[39;00m\u001b[39mThis error may have been caused \u001b[39m\u001b[39m\"\u001b[39m\n\u001b[1;32m    465\u001b[0m                \u001b[39mf\u001b[39m\u001b[39m\"\u001b[39m\u001b[39mby the following argument(s):\u001b[39m\u001b[39m\\n\u001b[39;00m\u001b[39m{\u001b[39;00margs_str\u001b[39m}\u001b[39;00m\u001b[39m\\n\u001b[39;00m\u001b[39m\"\u001b[39m)\n\u001b[1;32m    466\u001b[0m         e\u001b[39m.\u001b[39mpatch_message(msg)\n\u001b[0;32m--> 468\u001b[0m     error_rewrite(e, \u001b[39m'\u001b[39;49m\u001b[39mtyping\u001b[39;49m\u001b[39m'\u001b[39;49m)\n\u001b[1;32m    469\u001b[0m \u001b[39mexcept\u001b[39;00m errors\u001b[39m.\u001b[39mUnsupportedError \u001b[39mas\u001b[39;00m e:\n\u001b[1;32m    470\u001b[0m     \u001b[39m# Something unsupported is present in the user code, add help info\u001b[39;00m\n\u001b[1;32m    471\u001b[0m     error_rewrite(e, \u001b[39m'\u001b[39m\u001b[39munsupported_error\u001b[39m\u001b[39m'\u001b[39m)\n",
      "File \u001b[0;32m~/miniconda3/envs/stereo/lib/python3.10/site-packages/numba/core/dispatcher.py:409\u001b[0m, in \u001b[0;36m_DispatcherBase._compile_for_args.<locals>.error_rewrite\u001b[0;34m(e, issue_type)\u001b[0m\n\u001b[1;32m    407\u001b[0m     \u001b[39mraise\u001b[39;00m e\n\u001b[1;32m    408\u001b[0m \u001b[39melse\u001b[39;00m:\n\u001b[0;32m--> 409\u001b[0m     \u001b[39mraise\u001b[39;00m e\u001b[39m.\u001b[39mwith_traceback(\u001b[39mNone\u001b[39;00m)\n",
      "\u001b[0;31mTypingError\u001b[0m: Failed in nopython mode pipeline (step: nopython frontend)\nUntyped global name 'tqdm': Cannot determine Numba type of <class 'type'>\n\nFile \"Stereo/Disparity_computing/disparty_computing.py\", line 55:\n    def dynamic_programming(self,cost_volume):\n        <source elided>\n\n        for y in tqdm(range(nRow)):\n        ^ \n\nThis error may have been caused by the following argument(s):\n- argument 0: Cannot determine Numba type of <class 'Stereo.Disparity_computing.disparty_computing.DisparityComputation'>\n"
     ]
    }
   ],
   "source": [
    "cost_function=StereoCost.SSD\n",
    "aggregation_function=fixed_window(5)\n",
    "disparity_computation=DisparityComputation(strategy='dynamic-programming')\n",
    "disparity_refinement=None\n",
    "StereoPipeline(image_name,\n",
    "                cost_function, \n",
    "                aggregation_function,\n",
    "                disparity_computation,\n",
    "                disparity_refinement,\n",
    "                max_disparity=96).compute_disparity_with_dp()"
   ]
  }
 ],
 "metadata": {
  "kernelspec": {
   "display_name": "stereo",
   "language": "python",
   "name": "python3"
  },
  "language_info": {
   "codemirror_mode": {
    "name": "ipython",
    "version": 3
   },
   "file_extension": ".py",
   "mimetype": "text/x-python",
   "name": "python",
   "nbconvert_exporter": "python",
   "pygments_lexer": "ipython3",
   "version": "3.10.0"
  },
  "orig_nbformat": 4
 },
 "nbformat": 4,
 "nbformat_minor": 2
}
