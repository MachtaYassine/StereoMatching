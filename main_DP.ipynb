{
 "cells": [
  {
   "cell_type": "code",
   "execution_count": 1,
   "metadata": {},
   "outputs": [],
   "source": [
    "from utilities.load_data import *\n",
    "from Stereo.Aggregation.aggregation import *\n",
    "from Stereo.Costs.costs import *\n",
    "from Stereo.Disparity_computing.disparty_computing import *\n",
    "from Stereo.Main_Pipeline import *"
   ]
  },
  {
   "cell_type": "markdown",
   "metadata": {},
   "source": [
    "Costs: StereoCost.SAD SSD STAD NCC\n",
    "Aggregation: fixed_window(),\n",
    "DisparityComputation: winner takes all"
   ]
  },
  {
   "cell_type": "code",
   "execution_count": 2,
   "metadata": {},
   "outputs": [],
   "source": [
    "image_name='Road'\n"
   ]
  },
  {
   "cell_type": "code",
   "execution_count": 3,
   "metadata": {},
   "outputs": [
    {
     "name": "stdout",
     "output_type": "stream",
     "text": [
      "375 1242\n"
     ]
    },
    {
     "name": "stderr",
     "output_type": "stream",
     "text": [
      "100%|██████████| 371/371 [04:06<00:00,  1.51it/s]\n",
      "  2%|▏         | 8/375 [07:01<5:22:10, 52.67s/it]\n"
     ]
    },
    {
     "ename": "KeyboardInterrupt",
     "evalue": "",
     "output_type": "error",
     "traceback": [
      "\u001b[0;31m---------------------------------------------------------------------------\u001b[0m",
      "\u001b[0;31mKeyboardInterrupt\u001b[0m                         Traceback (most recent call last)",
      "\u001b[1;32m/home/ymachta/StereoMatching/main_DP.ipynb Cell 4\u001b[0m line \u001b[0;36m1\n\u001b[1;32m      <a href='vscode-notebook-cell://wsl%2Bubuntu-18.04/home/ymachta/StereoMatching/main_DP.ipynb#W3sdnNjb2RlLXJlbW90ZQ%3D%3D?line=2'>3</a>\u001b[0m disparity_computation\u001b[39m=\u001b[39mDisparityComputation(strategy\u001b[39m=\u001b[39m\u001b[39m'\u001b[39m\u001b[39mdynamic-programming\u001b[39m\u001b[39m'\u001b[39m)\n\u001b[1;32m      <a href='vscode-notebook-cell://wsl%2Bubuntu-18.04/home/ymachta/StereoMatching/main_DP.ipynb#W3sdnNjb2RlLXJlbW90ZQ%3D%3D?line=3'>4</a>\u001b[0m disparity_refinement\u001b[39m=\u001b[39m\u001b[39mNone\u001b[39;00m\n\u001b[1;32m      <a href='vscode-notebook-cell://wsl%2Bubuntu-18.04/home/ymachta/StereoMatching/main_DP.ipynb#W3sdnNjb2RlLXJlbW90ZQ%3D%3D?line=4'>5</a>\u001b[0m StereoPipeline(image_name,\n\u001b[1;32m      <a href='vscode-notebook-cell://wsl%2Bubuntu-18.04/home/ymachta/StereoMatching/main_DP.ipynb#W3sdnNjb2RlLXJlbW90ZQ%3D%3D?line=5'>6</a>\u001b[0m                 cost_function, \n\u001b[1;32m      <a href='vscode-notebook-cell://wsl%2Bubuntu-18.04/home/ymachta/StereoMatching/main_DP.ipynb#W3sdnNjb2RlLXJlbW90ZQ%3D%3D?line=6'>7</a>\u001b[0m                 aggregation_function,\n\u001b[1;32m      <a href='vscode-notebook-cell://wsl%2Bubuntu-18.04/home/ymachta/StereoMatching/main_DP.ipynb#W3sdnNjb2RlLXJlbW90ZQ%3D%3D?line=7'>8</a>\u001b[0m                 disparity_computation,\n\u001b[1;32m      <a href='vscode-notebook-cell://wsl%2Bubuntu-18.04/home/ymachta/StereoMatching/main_DP.ipynb#W3sdnNjb2RlLXJlbW90ZQ%3D%3D?line=8'>9</a>\u001b[0m                 disparity_refinement,\n\u001b[0;32m---> <a href='vscode-notebook-cell://wsl%2Bubuntu-18.04/home/ymachta/StereoMatching/main_DP.ipynb#W3sdnNjb2RlLXJlbW90ZQ%3D%3D?line=9'>10</a>\u001b[0m                 max_disparity\u001b[39m=\u001b[39;49m\u001b[39m96\u001b[39;49m)\u001b[39m.\u001b[39;49mcompute_disparity_with_dp()\n",
      "File \u001b[0;32m~/StereoMatching/Stereo/Main_Pipeline.py:59\u001b[0m, in \u001b[0;36mStereoPipeline.compute_disparity_with_dp\u001b[0;34m(self)\u001b[0m\n\u001b[1;32m     57\u001b[0m left_image,right_image\u001b[39m=\u001b[39m\u001b[39mself\u001b[39m\u001b[39m.\u001b[39mdataloader(\u001b[39mself\u001b[39m\u001b[39m.\u001b[39mimage_name)\u001b[39m.\u001b[39mload_images()\n\u001b[1;32m     58\u001b[0m disparity_space_image\u001b[39m=\u001b[39m\u001b[39mself\u001b[39m\u001b[39m.\u001b[39maggregation_function\u001b[39m.\u001b[39mcompute(\u001b[39mself\u001b[39m\u001b[39m.\u001b[39mcost_function,left_image, right_image, \u001b[39mself\u001b[39m\u001b[39m.\u001b[39mmax_disparity)\n\u001b[0;32m---> 59\u001b[0m disparity_left , disparity_right\u001b[39m=\u001b[39m\u001b[39mself\u001b[39;49m\u001b[39m.\u001b[39;49mdisparity_computation\u001b[39m.\u001b[39;49mcompute_disparity_map(disparity_space_image)\n\u001b[1;32m     60\u001b[0m \u001b[39mprint\u001b[39m(disparity_left\u001b[39m.\u001b[39mshape)\n\u001b[1;32m     61\u001b[0m method_info\u001b[39m=\u001b[39m\u001b[39mself\u001b[39m\u001b[39m.\u001b[39mcost_function\u001b[39m.\u001b[39m\u001b[39m__name__\u001b[39m\u001b[39m+\u001b[39m\u001b[39m'\u001b[39m\u001b[39m_\u001b[39m\u001b[39m'\u001b[39m\u001b[39m+\u001b[39m\u001b[39mself\u001b[39m\u001b[39m.\u001b[39maggregation_function\u001b[39m.\u001b[39mname\u001b[39m+\u001b[39m\u001b[39m'\u001b[39m\u001b[39m_\u001b[39m\u001b[39m'\u001b[39m\u001b[39m+\u001b[39m\u001b[39mself\u001b[39m\u001b[39m.\u001b[39mdisparity_computation\u001b[39m.\u001b[39mstrategy\u001b[39m+\u001b[39m\u001b[39m'\u001b[39m\u001b[39m_\u001b[39m\u001b[39m'\u001b[39m\u001b[39m+\u001b[39m\u001b[39mstr\u001b[39m(\u001b[39mself\u001b[39m\u001b[39m.\u001b[39mmax_disparity)\n",
      "File \u001b[0;32m~/StereoMatching/Stereo/Disparity_computing/disparty_computing.py:25\u001b[0m, in \u001b[0;36mDisparityComputation.compute_disparity_map\u001b[0;34m(self, cost_volume)\u001b[0m\n\u001b[1;32m     23\u001b[0m     \u001b[39mreturn\u001b[39;00m \u001b[39mself\u001b[39m\u001b[39m.\u001b[39msemi_global_matching(cost_volume)\n\u001b[1;32m     24\u001b[0m \u001b[39melif\u001b[39;00m \u001b[39mself\u001b[39m\u001b[39m.\u001b[39mstrategy \u001b[39m==\u001b[39m \u001b[39m'\u001b[39m\u001b[39mdynamic-programming\u001b[39m\u001b[39m'\u001b[39m:\n\u001b[0;32m---> 25\u001b[0m     \u001b[39mreturn\u001b[39;00m \u001b[39mself\u001b[39;49m\u001b[39m.\u001b[39;49mdynamic_programming(cost_volume)\n\u001b[1;32m     26\u001b[0m \u001b[39melif\u001b[39;00m \u001b[39mself\u001b[39m\u001b[39m.\u001b[39mstrategy \u001b[39m==\u001b[39m \u001b[39m'\u001b[39m\u001b[39mgraph-cuts\u001b[39m\u001b[39m'\u001b[39m:\n\u001b[1;32m     27\u001b[0m     \u001b[39mreturn\u001b[39;00m \u001b[39mself\u001b[39m\u001b[39m.\u001b[39mgraph_cuts()\n",
      "File \u001b[0;32m~/StereoMatching/Stereo/Disparity_computing/disparty_computing.py:80\u001b[0m, in \u001b[0;36mDisparityComputation.dynamic_programming\u001b[0;34m(self, cost_volume)\u001b[0m\n\u001b[1;32m     78\u001b[0m             \u001b[39melif\u001b[39;00m cmin \u001b[39m==\u001b[39m min3:\n\u001b[1;32m     79\u001b[0m                 M[i, j] \u001b[39m=\u001b[39m \u001b[39m3\u001b[39m\n\u001b[0;32m---> 80\u001b[0m                 log(\u001b[39mf\u001b[39;49m\u001b[39m\"\u001b[39;49m\u001b[39mright cost is the min \u001b[39;49m\u001b[39m{\u001b[39;49;00mmin3\u001b[39m}\u001b[39;49;00m\u001b[39m and the others \u001b[39;49m\u001b[39m{\u001b[39;49;00mmin1\u001b[39m}\u001b[39;49;00m\u001b[39m \u001b[39;49m\u001b[39m{\u001b[39;49;00mmin2\u001b[39m}\u001b[39;49;00m\u001b[39m\"\u001b[39;49m)\n\u001b[1;32m     82\u001b[0m i \u001b[39m=\u001b[39m nCol \u001b[39m-\u001b[39m \u001b[39m1\u001b[39m\n\u001b[1;32m     83\u001b[0m j \u001b[39m=\u001b[39m nCol \u001b[39m-\u001b[39m \u001b[39m1\u001b[39m\n",
      "File \u001b[0;32m~/StereoMatching/Stereo/Disparity_computing/disparty_computing.py:7\u001b[0m, in \u001b[0;36mlog\u001b[0;34m(text)\u001b[0m\n\u001b[1;32m      6\u001b[0m \u001b[39mdef\u001b[39;00m \u001b[39mlog\u001b[39m(text):\n\u001b[0;32m----> 7\u001b[0m     \u001b[39mwith\u001b[39;00m \u001b[39mopen\u001b[39m(\u001b[39m\"\u001b[39m\u001b[39mlog.txt\u001b[39m\u001b[39m\"\u001b[39m, \u001b[39m\"\u001b[39m\u001b[39ma\u001b[39m\u001b[39m\"\u001b[39m) \u001b[39mas\u001b[39;00m file:\n\u001b[1;32m      8\u001b[0m         file\u001b[39m.\u001b[39mwrite(text \u001b[39m+\u001b[39m \u001b[39m\"\u001b[39m\u001b[39m\\n\u001b[39;00m\u001b[39m\"\u001b[39m)\n",
      "\u001b[0;31mKeyboardInterrupt\u001b[0m: "
     ]
    }
   ],
   "source": [
    "cost_function=StereoCost.SSD\n",
    "aggregation_function=fixed_window(5)\n",
    "disparity_computation=DisparityComputation(strategy='dynamic-programming')\n",
    "disparity_refinement=None\n",
    "StereoPipeline(image_name,\n",
    "                cost_function, \n",
    "                aggregation_function,\n",
    "                disparity_computation,\n",
    "                disparity_refinement,\n",
    "                max_disparity=96).compute_disparity_with_dp()"
   ]
  }
 ],
 "metadata": {
  "kernelspec": {
   "display_name": "stereo",
   "language": "python",
   "name": "python3"
  },
  "language_info": {
   "codemirror_mode": {
    "name": "ipython",
    "version": 3
   },
   "file_extension": ".py",
   "mimetype": "text/x-python",
   "name": "python",
   "nbconvert_exporter": "python",
   "pygments_lexer": "ipython3",
   "version": "3.10.0"
  },
  "orig_nbformat": 4
 },
 "nbformat": 4,
 "nbformat_minor": 2
}
