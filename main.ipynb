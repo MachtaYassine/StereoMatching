{
 "cells": [
  {
   "cell_type": "code",
   "execution_count": 3,
   "metadata": {},
   "outputs": [],
   "source": [
    "from utilities.load_data import *\n",
    "from Stereo.Aggregation.aggregation import *\n",
    "from Stereo.Costs.costs import *\n",
    "from Stereo.Disparity_computing.disparty_computing import *\n",
    "from Stereo.Main_Pipeline import *"
   ]
  },
  {
   "cell_type": "markdown",
   "metadata": {},
   "source": [
    "Costs: StereoCost.SAD SSD STAD NCC\n",
    "Aggregation: fixed_window(),\n",
    "DisparityComputation: winner takes all"
   ]
  },
  {
   "cell_type": "code",
   "execution_count": 5,
   "metadata": {},
   "outputs": [],
   "source": [
    "image_name='chess'\n",
    "cost_function=StereoCost.SAD\n",
    "aggregation_function=fixed_window(5)\n",
    "disparity_computation=DisparityComputation()\n",
    "disparity_refinement=None"
   ]
  },
  {
   "cell_type": "code",
   "execution_count": 9,
   "metadata": {},
   "outputs": [
    {
     "ename": "AttributeError",
     "evalue": "'StereoPipeline' object has no attribute 'max_disparity'",
     "output_type": "error",
     "traceback": [
      "\u001b[0;31m---------------------------------------------------------------------------\u001b[0m",
      "\u001b[0;31mAttributeError\u001b[0m                            Traceback (most recent call last)",
      "\u001b[1;32m/home/ymachta/StereoMatching/main.ipynb Cell 4\u001b[0m line \u001b[0;36m7\n\u001b[1;32m      <a href='vscode-notebook-cell://wsl%2Bubuntu-18.04/home/ymachta/StereoMatching/main.ipynb#W1sdnNjb2RlLXJlbW90ZQ%3D%3D?line=0'>1</a>\u001b[0m StereoPipeline(image_name,\n\u001b[1;32m      <a href='vscode-notebook-cell://wsl%2Bubuntu-18.04/home/ymachta/StereoMatching/main.ipynb#W1sdnNjb2RlLXJlbW90ZQ%3D%3D?line=1'>2</a>\u001b[0m                  cost_function, \n\u001b[1;32m      <a href='vscode-notebook-cell://wsl%2Bubuntu-18.04/home/ymachta/StereoMatching/main.ipynb#W1sdnNjb2RlLXJlbW90ZQ%3D%3D?line=2'>3</a>\u001b[0m                  aggregation_function,\n\u001b[1;32m      <a href='vscode-notebook-cell://wsl%2Bubuntu-18.04/home/ymachta/StereoMatching/main.ipynb#W1sdnNjb2RlLXJlbW90ZQ%3D%3D?line=3'>4</a>\u001b[0m                  disparity_computation,\n\u001b[1;32m      <a href='vscode-notebook-cell://wsl%2Bubuntu-18.04/home/ymachta/StereoMatching/main.ipynb#W1sdnNjb2RlLXJlbW90ZQ%3D%3D?line=4'>5</a>\u001b[0m                  disparity_refinement,\n\u001b[1;32m      <a href='vscode-notebook-cell://wsl%2Bubuntu-18.04/home/ymachta/StereoMatching/main.ipynb#W1sdnNjb2RlLXJlbW90ZQ%3D%3D?line=5'>6</a>\u001b[0m                  dataloader\u001b[39m=\u001b[39;49mDataLoader,\n\u001b[0;32m----> <a href='vscode-notebook-cell://wsl%2Bubuntu-18.04/home/ymachta/StereoMatching/main.ipynb#W1sdnNjb2RlLXJlbW90ZQ%3D%3D?line=6'>7</a>\u001b[0m                  datavisualizer\u001b[39m=\u001b[39;49mDataVisualizer)\u001b[39m.\u001b[39;49mcompute_disparity_map()\n",
      "File \u001b[0;32m~/StereoMatching/Stereo/Main_Pipeline.py:29\u001b[0m, in \u001b[0;36mStereoPipeline.compute_disparity_map\u001b[0;34m(self, max_disparity)\u001b[0m\n\u001b[1;32m     26\u001b[0m left_image,right_image\u001b[39m=\u001b[39m\u001b[39mself\u001b[39m\u001b[39m.\u001b[39mdataloader(\u001b[39mself\u001b[39m\u001b[39m.\u001b[39mimage_name)\u001b[39m.\u001b[39mload_images()\n\u001b[1;32m     28\u001b[0m height, width \u001b[39m=\u001b[39m left_image\u001b[39m.\u001b[39mshape\n\u001b[0;32m---> 29\u001b[0m disparity_space_image\u001b[39m=\u001b[39mnp\u001b[39m.\u001b[39mzeros((height,width,\u001b[39mself\u001b[39;49m\u001b[39m.\u001b[39;49mmax_disparity))\n\u001b[1;32m     30\u001b[0m \u001b[39mfor\u001b[39;00m y \u001b[39min\u001b[39;00m \u001b[39mrange\u001b[39m(height):\n\u001b[1;32m     31\u001b[0m     \u001b[39mfor\u001b[39;00m x \u001b[39min\u001b[39;00m \u001b[39mrange\u001b[39m(width):\n\u001b[1;32m     32\u001b[0m         \u001b[39m#define search range in the righ image\u001b[39;00m\n",
      "\u001b[0;31mAttributeError\u001b[0m: 'StereoPipeline' object has no attribute 'max_disparity'"
     ]
    }
   ],
   "source": [
    "StereoPipeline(image_name,\n",
    "                 cost_function, \n",
    "                 aggregation_function,\n",
    "                 disparity_computation,\n",
    "                 disparity_refinement,\n",
    "                 dataloader=DataLoader,\n",
    "                 datavisualizer=DataVisualizer).compute_disparity_map()"
   ]
  }
 ],
 "metadata": {
  "kernelspec": {
   "display_name": "stereo",
   "language": "python",
   "name": "python3"
  },
  "language_info": {
   "codemirror_mode": {
    "name": "ipython",
    "version": 3
   },
   "file_extension": ".py",
   "mimetype": "text/x-python",
   "name": "python",
   "nbconvert_exporter": "python",
   "pygments_lexer": "ipython3",
   "version": "3.10.0"
  },
  "orig_nbformat": 4
 },
 "nbformat": 4,
 "nbformat_minor": 2
}
