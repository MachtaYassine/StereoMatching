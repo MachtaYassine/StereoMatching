{
 "cells": [
  {
   "cell_type": "code",
   "execution_count": 1,
   "metadata": {},
   "outputs": [],
   "source": [
    "from utilities.load_data import *\n",
    "from Stereo.Aggregation.aggregation import *\n",
    "from Stereo.Costs.costs import *\n",
    "from Stereo.Disparity_computing.disparty_computing import *\n",
    "from Stereo.Main_Pipeline import *"
   ]
  },
  {
   "cell_type": "markdown",
   "metadata": {},
   "source": [
    "Costs: StereoCost.SAD SSD STAD NCC\n",
    "Aggregation: fixed_window(),\n",
    "DisparityComputation: winner takes all"
   ]
  },
  {
   "cell_type": "code",
   "execution_count": 2,
   "metadata": {},
   "outputs": [],
   "source": [
    "image_name='Road'\n"
   ]
  },
  {
   "cell_type": "code",
   "execution_count": 4,
   "metadata": {},
   "outputs": [
    {
     "name": "stdout",
     "output_type": "stream",
     "text": [
      "375 1242\n"
     ]
    },
    {
     "name": "stderr",
     "output_type": "stream",
     "text": [
      "  0%|          | 0/371 [00:00<?, ?it/s]"
     ]
    },
    {
     "name": "stderr",
     "output_type": "stream",
     "text": [
      "100%|██████████| 371/371 [06:28<00:00,  1.05s/it]\n"
     ]
    },
    {
     "name": "stdout",
     "output_type": "stream",
     "text": [
      "Single image mode\n"
     ]
    },
    {
     "data": {
      "text/plain": [
       "array([[ 0,  0,  0, ...,  0,  0,  0],\n",
       "       [ 0,  0,  0, ...,  0,  0,  0],\n",
       "       [ 0,  0,  0, ..., 29,  0,  0],\n",
       "       ...,\n",
       "       [ 0,  0,  0, ..., 45,  0,  0],\n",
       "       [ 0,  0,  0, ...,  0,  0,  0],\n",
       "       [ 0,  0,  0, ...,  0,  0,  0]])"
      ]
     },
     "execution_count": 4,
     "metadata": {},
     "output_type": "execute_result"
    }
   ],
   "source": [
    "cost_function=StereoCost.SAD\n",
    "aggregation_function=fixed_window(5)\n",
    "disparity_computation=DisparityComputation()\n",
    "disparity_refinement=None\n",
    "StereoPipeline(image_name,\n",
    "                cost_function, \n",
    "                aggregation_function,\n",
    "                disparity_computation,\n",
    "                disparity_refinement,\n",
    "                max_disparity=64).compute_disparity_map()"
   ]
  },
  {
   "cell_type": "code",
   "execution_count": 5,
   "metadata": {},
   "outputs": [
    {
     "name": "stdout",
     "output_type": "stream",
     "text": [
      "375 1242\n"
     ]
    },
    {
     "name": "stderr",
     "output_type": "stream",
     "text": [
      "100%|██████████| 365/365 [06:20<00:00,  1.04s/it]\n"
     ]
    },
    {
     "name": "stdout",
     "output_type": "stream",
     "text": [
      "Single image mode\n"
     ]
    },
    {
     "data": {
      "text/plain": [
       "array([[0, 0, 0, ..., 0, 0, 0],\n",
       "       [0, 0, 0, ..., 0, 0, 0],\n",
       "       [0, 0, 0, ..., 0, 0, 0],\n",
       "       ...,\n",
       "       [0, 0, 0, ..., 0, 0, 0],\n",
       "       [0, 0, 0, ..., 0, 0, 0],\n",
       "       [0, 0, 0, ..., 0, 0, 0]])"
      ]
     },
     "execution_count": 5,
     "metadata": {},
     "output_type": "execute_result"
    }
   ],
   "source": [
    "cost_function=StereoCost.SAD\n",
    "aggregation_function=fixed_window(11)\n",
    "disparity_computation=DisparityComputation()\n",
    "disparity_refinement=None\n",
    "StereoPipeline(image_name,\n",
    "                cost_function, \n",
    "                aggregation_function,\n",
    "                disparity_computation,\n",
    "                disparity_refinement,\n",
    "                max_disparity=64).compute_disparity_map()"
   ]
  },
  {
   "cell_type": "code",
   "execution_count": 6,
   "metadata": {},
   "outputs": [
    {
     "name": "stdout",
     "output_type": "stream",
     "text": [
      "375 1242\n"
     ]
    },
    {
     "name": "stderr",
     "output_type": "stream",
     "text": [
      "100%|██████████| 371/371 [09:46<00:00,  1.58s/it]\n"
     ]
    },
    {
     "name": "stdout",
     "output_type": "stream",
     "text": [
      "Single image mode\n"
     ]
    },
    {
     "data": {
      "text/plain": [
       "array([[ 0,  0,  0, ...,  0,  0,  0],\n",
       "       [ 0,  0,  0, ...,  0,  0,  0],\n",
       "       [ 0,  0,  0, ..., 29,  0,  0],\n",
       "       ...,\n",
       "       [ 0,  0,  0, ..., 45,  0,  0],\n",
       "       [ 0,  0,  0, ...,  0,  0,  0],\n",
       "       [ 0,  0,  0, ...,  0,  0,  0]])"
      ]
     },
     "execution_count": 6,
     "metadata": {},
     "output_type": "execute_result"
    }
   ],
   "source": [
    "cost_function=StereoCost.SAD\n",
    "aggregation_function=fixed_window(5)\n",
    "disparity_computation=DisparityComputation()\n",
    "disparity_refinement=None\n",
    "StereoPipeline(image_name,\n",
    "                cost_function, \n",
    "                aggregation_function,\n",
    "                disparity_computation,\n",
    "                disparity_refinement,\n",
    "                max_disparity=96).compute_disparity_map()"
   ]
  },
  {
   "cell_type": "code",
   "execution_count": 7,
   "metadata": {},
   "outputs": [
    {
     "name": "stdout",
     "output_type": "stream",
     "text": [
      "375 1242\n"
     ]
    },
    {
     "name": "stderr",
     "output_type": "stream",
     "text": [
      "100%|██████████| 371/371 [06:32<00:00,  1.06s/it]\n"
     ]
    },
    {
     "name": "stdout",
     "output_type": "stream",
     "text": [
      "Single image mode\n"
     ]
    },
    {
     "data": {
      "text/plain": [
       "array([[ 0,  0,  0, ...,  0,  0,  0],\n",
       "       [ 0,  0,  0, ...,  0,  0,  0],\n",
       "       [ 0,  0,  0, ..., 33,  0,  0],\n",
       "       ...,\n",
       "       [ 0,  0,  0, ..., 59,  0,  0],\n",
       "       [ 0,  0,  0, ...,  0,  0,  0],\n",
       "       [ 0,  0,  0, ...,  0,  0,  0]])"
      ]
     },
     "execution_count": 7,
     "metadata": {},
     "output_type": "execute_result"
    }
   ],
   "source": [
    "cost_function=StereoCost.SSD\n",
    "aggregation_function=fixed_window(5)\n",
    "disparity_computation=DisparityComputation()\n",
    "disparity_refinement=None\n",
    "StereoPipeline(image_name,\n",
    "                cost_function, \n",
    "                aggregation_function,\n",
    "                disparity_computation,\n",
    "                disparity_refinement,\n",
    "                max_disparity=64).compute_disparity_map()"
   ]
  },
  {
   "cell_type": "code",
   "execution_count": 8,
   "metadata": {},
   "outputs": [
    {
     "name": "stdout",
     "output_type": "stream",
     "text": [
      "375 1242\n"
     ]
    },
    {
     "name": "stderr",
     "output_type": "stream",
     "text": [
      "100%|██████████| 371/371 [5:46:34<00:00, 56.05s/it]      \n"
     ]
    },
    {
     "name": "stdout",
     "output_type": "stream",
     "text": [
      "Single image mode\n"
     ]
    },
    {
     "data": {
      "text/plain": [
       "array([[ 0,  0,  0, ...,  0,  0,  0],\n",
       "       [ 0,  0,  0, ...,  0,  0,  0],\n",
       "       [ 0,  0,  0, ..., 33,  0,  0],\n",
       "       ...,\n",
       "       [ 0,  0,  0, ..., 45,  0,  0],\n",
       "       [ 0,  0,  0, ...,  0,  0,  0],\n",
       "       [ 0,  0,  0, ...,  0,  0,  0]])"
      ]
     },
     "execution_count": 8,
     "metadata": {},
     "output_type": "execute_result"
    }
   ],
   "source": [
    "cost_function=StereoCost.STAD\n",
    "aggregation_function=fixed_window(5)\n",
    "disparity_computation=DisparityComputation()\n",
    "disparity_refinement=None\n",
    "StereoPipeline(image_name,\n",
    "                cost_function, \n",
    "                aggregation_function,\n",
    "                disparity_computation,\n",
    "                disparity_refinement,\n",
    "                max_disparity=64).compute_disparity_map()"
   ]
  },
  {
   "cell_type": "code",
   "execution_count": 9,
   "metadata": {},
   "outputs": [
    {
     "name": "stdout",
     "output_type": "stream",
     "text": [
      "375 1242\n"
     ]
    },
    {
     "name": "stderr",
     "output_type": "stream",
     "text": [
      "  0%|          | 0/371 [00:00<?, ?it/s]/home/ymachta/StereoMatching/Stereo/Costs/costs.py:29: RuntimeWarning: invalid value encountered in scalar divide\n",
      "  NCC = np.sum((intensites_left - mean_left)*(intensities_right - mean_right))/(std_left*std_right)\n",
      " 13%|█▎        | 49/371 [08:02<52:49,  9.84s/it] \n"
     ]
    },
    {
     "ename": "KeyboardInterrupt",
     "evalue": "",
     "output_type": "error",
     "traceback": [
      "\u001b[0;31m---------------------------------------------------------------------------\u001b[0m",
      "\u001b[0;31mKeyboardInterrupt\u001b[0m                         Traceback (most recent call last)",
      "\u001b[1;32m/home/ymachta/StereoMatching/main.ipynb Cell 9\u001b[0m line \u001b[0;36m1\n\u001b[1;32m      <a href='vscode-notebook-cell://wsl%2Bubuntu-18.04/home/ymachta/StereoMatching/main.ipynb#X16sdnNjb2RlLXJlbW90ZQ%3D%3D?line=2'>3</a>\u001b[0m disparity_computation\u001b[39m=\u001b[39mDisparityComputation()\n\u001b[1;32m      <a href='vscode-notebook-cell://wsl%2Bubuntu-18.04/home/ymachta/StereoMatching/main.ipynb#X16sdnNjb2RlLXJlbW90ZQ%3D%3D?line=3'>4</a>\u001b[0m disparity_refinement\u001b[39m=\u001b[39m\u001b[39mNone\u001b[39;00m\n\u001b[1;32m      <a href='vscode-notebook-cell://wsl%2Bubuntu-18.04/home/ymachta/StereoMatching/main.ipynb#X16sdnNjb2RlLXJlbW90ZQ%3D%3D?line=4'>5</a>\u001b[0m StereoPipeline(image_name,\n\u001b[1;32m      <a href='vscode-notebook-cell://wsl%2Bubuntu-18.04/home/ymachta/StereoMatching/main.ipynb#X16sdnNjb2RlLXJlbW90ZQ%3D%3D?line=5'>6</a>\u001b[0m                 cost_function, \n\u001b[1;32m      <a href='vscode-notebook-cell://wsl%2Bubuntu-18.04/home/ymachta/StereoMatching/main.ipynb#X16sdnNjb2RlLXJlbW90ZQ%3D%3D?line=6'>7</a>\u001b[0m                 aggregation_function,\n\u001b[1;32m      <a href='vscode-notebook-cell://wsl%2Bubuntu-18.04/home/ymachta/StereoMatching/main.ipynb#X16sdnNjb2RlLXJlbW90ZQ%3D%3D?line=7'>8</a>\u001b[0m                 disparity_computation,\n\u001b[1;32m      <a href='vscode-notebook-cell://wsl%2Bubuntu-18.04/home/ymachta/StereoMatching/main.ipynb#X16sdnNjb2RlLXJlbW90ZQ%3D%3D?line=8'>9</a>\u001b[0m                 disparity_refinement,\n\u001b[0;32m---> <a href='vscode-notebook-cell://wsl%2Bubuntu-18.04/home/ymachta/StereoMatching/main.ipynb#X16sdnNjb2RlLXJlbW90ZQ%3D%3D?line=9'>10</a>\u001b[0m                 max_disparity\u001b[39m=\u001b[39;49m\u001b[39m64\u001b[39;49m)\u001b[39m.\u001b[39;49mcompute_disparity_map()\n",
      "File \u001b[0;32m~/StereoMatching/Stereo/Main_Pipeline.py:45\u001b[0m, in \u001b[0;36mStereoPipeline.compute_disparity_map\u001b[0;34m(self)\u001b[0m\n\u001b[1;32m     41\u001b[0m \u001b[39mdef\u001b[39;00m \u001b[39mcompute_disparity_map\u001b[39m(\u001b[39mself\u001b[39m):\n\u001b[1;32m     42\u001b[0m     left_image,right_image\u001b[39m=\u001b[39m\u001b[39mself\u001b[39m\u001b[39m.\u001b[39mdataloader(\u001b[39mself\u001b[39m\u001b[39m.\u001b[39mimage_name)\u001b[39m.\u001b[39mload_images()\n\u001b[0;32m---> 45\u001b[0m     disparity_space_image\u001b[39m=\u001b[39m\u001b[39mself\u001b[39m\u001b[39m.\u001b[39maggregation_function\u001b[39m.\u001b[39mcompute(\u001b[39mself\u001b[39m\u001b[39m.\u001b[39mcost_function,left_image, right_image, \u001b[39mself\u001b[39m\u001b[39m.\u001b[39mmax_disparity)\n\u001b[1;32m     46\u001b[0m     log_array(\u001b[39mself\u001b[39m\u001b[39m.\u001b[39mimage_name\u001b[39m+\u001b[39m\u001b[39m'\u001b[39m\u001b[39m_disparity_space_image\u001b[39m\u001b[39m'\u001b[39m,disparity_space_image)\n\u001b[1;32m     47\u001b[0m     disparity_map\u001b[39m=\u001b[39m\u001b[39mself\u001b[39m\u001b[39m.\u001b[39mdisparity_computation\u001b[39m.\u001b[39mcompute_disparity_map(disparity_space_image)\n",
      "File \u001b[0;32m~/StereoMatching/Stereo/Aggregation/aggregation.py:34\u001b[0m, in \u001b[0;36mfixed_window.compute\u001b[0;34m(self, cost_fuction, left_image, right_image, max_disparity)\u001b[0m\n\u001b[1;32m     32\u001b[0m             window_right\u001b[39m=\u001b[39mright_image[y\u001b[39m-\u001b[39m\u001b[39mself\u001b[39m\u001b[39m.\u001b[39mwindow_size\u001b[39m/\u001b[39m\u001b[39m/\u001b[39m\u001b[39m2\u001b[39m:y\u001b[39m+\u001b[39m\u001b[39mself\u001b[39m\u001b[39m.\u001b[39mwindow_size\u001b[39m/\u001b[39m\u001b[39m/\u001b[39m\u001b[39m2\u001b[39m\u001b[39m+\u001b[39m\u001b[39m1\u001b[39m,x\u001b[39m-\u001b[39m\u001b[39mself\u001b[39m\u001b[39m.\u001b[39mwindow_size\u001b[39m/\u001b[39m\u001b[39m/\u001b[39m\u001b[39m2\u001b[39m\u001b[39m-\u001b[39md:x\u001b[39m+\u001b[39m\u001b[39mself\u001b[39m\u001b[39m.\u001b[39mwindow_size\u001b[39m/\u001b[39m\u001b[39m/\u001b[39m\u001b[39m2\u001b[39m\u001b[39m+\u001b[39m\u001b[39m1\u001b[39m\u001b[39m-\u001b[39md]\n\u001b[1;32m     33\u001b[0m             \u001b[39m# print(window_right.shape,window_left.shape)\u001b[39;00m\n\u001b[0;32m---> 34\u001b[0m             disparity_space_image[y,x,d]\u001b[39m=\u001b[39mcost_fuction(window_left,window_right)\n\u001b[1;32m     38\u001b[0m \u001b[39mreturn\u001b[39;00m disparity_space_image\n",
      "File \u001b[0;32m~/StereoMatching/Stereo/Costs/costs.py:27\u001b[0m, in \u001b[0;36mStereoCost.NCC\u001b[0;34m(intensites_left, intensities_right)\u001b[0m\n\u001b[1;32m     25\u001b[0m mean_left \u001b[39m=\u001b[39m np\u001b[39m.\u001b[39mmean(intensites_left)\n\u001b[1;32m     26\u001b[0m mean_right \u001b[39m=\u001b[39m np\u001b[39m.\u001b[39mmean(intensities_right)\n\u001b[0;32m---> 27\u001b[0m std_left \u001b[39m=\u001b[39m np\u001b[39m.\u001b[39;49mstd(intensites_left)\n\u001b[1;32m     28\u001b[0m std_right \u001b[39m=\u001b[39m np\u001b[39m.\u001b[39mstd(intensities_right)\n\u001b[1;32m     29\u001b[0m NCC \u001b[39m=\u001b[39m np\u001b[39m.\u001b[39msum((intensites_left \u001b[39m-\u001b[39m mean_left)\u001b[39m*\u001b[39m(intensities_right \u001b[39m-\u001b[39m mean_right))\u001b[39m/\u001b[39m(std_left\u001b[39m*\u001b[39mstd_right)\n",
      "File \u001b[0;32m~/miniconda3/envs/stereo/lib/python3.10/site-packages/numpy/core/fromnumeric.py:3645\u001b[0m, in \u001b[0;36mstd\u001b[0;34m(a, axis, dtype, out, ddof, keepdims, where)\u001b[0m\n\u001b[1;32m   3642\u001b[0m     \u001b[39melse\u001b[39;00m:\n\u001b[1;32m   3643\u001b[0m         \u001b[39mreturn\u001b[39;00m std(axis\u001b[39m=\u001b[39maxis, dtype\u001b[39m=\u001b[39mdtype, out\u001b[39m=\u001b[39mout, ddof\u001b[39m=\u001b[39mddof, \u001b[39m*\u001b[39m\u001b[39m*\u001b[39mkwargs)\n\u001b[0;32m-> 3645\u001b[0m \u001b[39mreturn\u001b[39;00m _methods\u001b[39m.\u001b[39;49m_std(a, axis\u001b[39m=\u001b[39;49maxis, dtype\u001b[39m=\u001b[39;49mdtype, out\u001b[39m=\u001b[39;49mout, ddof\u001b[39m=\u001b[39;49mddof,\n\u001b[1;32m   3646\u001b[0m                      \u001b[39m*\u001b[39;49m\u001b[39m*\u001b[39;49mkwargs)\n",
      "File \u001b[0;32m~/miniconda3/envs/stereo/lib/python3.10/site-packages/numpy/core/_methods.py:206\u001b[0m, in \u001b[0;36m_std\u001b[0;34m(a, axis, dtype, out, ddof, keepdims, where)\u001b[0m\n\u001b[1;32m    204\u001b[0m \u001b[39mdef\u001b[39;00m \u001b[39m_std\u001b[39m(a, axis\u001b[39m=\u001b[39m\u001b[39mNone\u001b[39;00m, dtype\u001b[39m=\u001b[39m\u001b[39mNone\u001b[39;00m, out\u001b[39m=\u001b[39m\u001b[39mNone\u001b[39;00m, ddof\u001b[39m=\u001b[39m\u001b[39m0\u001b[39m, keepdims\u001b[39m=\u001b[39m\u001b[39mFalse\u001b[39;00m, \u001b[39m*\u001b[39m,\n\u001b[1;32m    205\u001b[0m          where\u001b[39m=\u001b[39m\u001b[39mTrue\u001b[39;00m):\n\u001b[0;32m--> 206\u001b[0m     ret \u001b[39m=\u001b[39m _var(a, axis\u001b[39m=\u001b[39;49maxis, dtype\u001b[39m=\u001b[39;49mdtype, out\u001b[39m=\u001b[39;49mout, ddof\u001b[39m=\u001b[39;49mddof,\n\u001b[1;32m    207\u001b[0m                keepdims\u001b[39m=\u001b[39;49mkeepdims, where\u001b[39m=\u001b[39;49mwhere)\n\u001b[1;32m    209\u001b[0m     \u001b[39mif\u001b[39;00m \u001b[39misinstance\u001b[39m(ret, mu\u001b[39m.\u001b[39mndarray):\n\u001b[1;32m    210\u001b[0m         ret \u001b[39m=\u001b[39m um\u001b[39m.\u001b[39msqrt(ret, out\u001b[39m=\u001b[39mret)\n",
      "File \u001b[0;32m~/miniconda3/envs/stereo/lib/python3.10/site-packages/numpy/core/_methods.py:163\u001b[0m, in \u001b[0;36m_var\u001b[0;34m(a, axis, dtype, out, ddof, keepdims, where)\u001b[0m\n\u001b[1;32m    161\u001b[0m \u001b[39mif\u001b[39;00m \u001b[39misinstance\u001b[39m(arrmean, mu\u001b[39m.\u001b[39mndarray):\n\u001b[1;32m    162\u001b[0m     \u001b[39mwith\u001b[39;00m _no_nep50_warning():\n\u001b[0;32m--> 163\u001b[0m         arrmean \u001b[39m=\u001b[39m um\u001b[39m.\u001b[39;49mtrue_divide(arrmean, div, out\u001b[39m=\u001b[39;49marrmean,\n\u001b[1;32m    164\u001b[0m                                  casting\u001b[39m=\u001b[39;49m\u001b[39m'\u001b[39;49m\u001b[39munsafe\u001b[39;49m\u001b[39m'\u001b[39;49m, subok\u001b[39m=\u001b[39;49m\u001b[39mFalse\u001b[39;49;00m)\n\u001b[1;32m    165\u001b[0m \u001b[39melif\u001b[39;00m \u001b[39mhasattr\u001b[39m(arrmean, \u001b[39m\"\u001b[39m\u001b[39mdtype\u001b[39m\u001b[39m\"\u001b[39m):\n\u001b[1;32m    166\u001b[0m     arrmean \u001b[39m=\u001b[39m arrmean\u001b[39m.\u001b[39mdtype\u001b[39m.\u001b[39mtype(arrmean \u001b[39m/\u001b[39m rcount)\n",
      "\u001b[0;31mKeyboardInterrupt\u001b[0m: "
     ]
    }
   ],
   "source": [
    "cost_function=StereoCost.NCC\n",
    "aggregation_function=fixed_window(5)\n",
    "disparity_computation=DisparityComputation()\n",
    "disparity_refinement=None\n",
    "StereoPipeline(image_name,\n",
    "                cost_function, \n",
    "                aggregation_function,\n",
    "                disparity_computation,\n",
    "                disparity_refinement,\n",
    "                max_disparity=64).compute_disparity_map()"
   ]
  },
  {
   "cell_type": "code",
   "execution_count": 10,
   "metadata": {},
   "outputs": [
    {
     "name": "stdout",
     "output_type": "stream",
     "text": [
      "375 1242\n"
     ]
    },
    {
     "name": "stderr",
     "output_type": "stream",
     "text": [
      "100%|██████████| 371/371 [09:25<00:00,  1.53s/it]\n"
     ]
    },
    {
     "name": "stdout",
     "output_type": "stream",
     "text": [
      "Single image mode\n"
     ]
    },
    {
     "data": {
      "text/plain": [
       "array([[ 0,  0,  0, ...,  0,  0,  0],\n",
       "       [ 0,  0,  0, ...,  0,  0,  0],\n",
       "       [ 0,  0,  0, ..., 33,  0,  0],\n",
       "       ...,\n",
       "       [ 0,  0,  0, ..., 70,  0,  0],\n",
       "       [ 0,  0,  0, ...,  0,  0,  0],\n",
       "       [ 0,  0,  0, ...,  0,  0,  0]])"
      ]
     },
     "execution_count": 10,
     "metadata": {},
     "output_type": "execute_result"
    }
   ],
   "source": [
    "cost_function=StereoCost.SSD\n",
    "aggregation_function=fixed_window(5)\n",
    "disparity_computation=DisparityComputation()\n",
    "disparity_refinement=None\n",
    "StereoPipeline(image_name,\n",
    "                cost_function, \n",
    "                aggregation_function,\n",
    "                disparity_computation,\n",
    "                disparity_refinement,\n",
    "                max_disparity=96).compute_disparity_map()"
   ]
  },
  {
   "cell_type": "code",
   "execution_count": 11,
   "metadata": {},
   "outputs": [
    {
     "name": "stdout",
     "output_type": "stream",
     "text": [
      "375 1242\n"
     ]
    },
    {
     "name": "stderr",
     "output_type": "stream",
     "text": [
      "100%|██████████| 371/371 [27:18<00:00,  4.42s/it]   \n"
     ]
    },
    {
     "name": "stdout",
     "output_type": "stream",
     "text": [
      "Single image mode\n"
     ]
    },
    {
     "data": {
      "text/plain": [
       "array([[ 0,  0,  0, ...,  0,  0,  0],\n",
       "       [ 0,  0,  0, ...,  0,  0,  0],\n",
       "       [ 0,  0,  0, ..., 33,  0,  0],\n",
       "       ...,\n",
       "       [ 0,  0,  0, ..., 45,  0,  0],\n",
       "       [ 0,  0,  0, ...,  0,  0,  0],\n",
       "       [ 0,  0,  0, ...,  0,  0,  0]])"
      ]
     },
     "execution_count": 11,
     "metadata": {},
     "output_type": "execute_result"
    }
   ],
   "source": [
    "cost_function=StereoCost.STAD\n",
    "aggregation_function=fixed_window(5)\n",
    "disparity_computation=DisparityComputation()\n",
    "disparity_refinement=None\n",
    "StereoPipeline(image_name,\n",
    "                cost_function, \n",
    "                aggregation_function,\n",
    "                disparity_computation,\n",
    "                disparity_refinement,\n",
    "                max_disparity=96).compute_disparity_map()"
   ]
  },
  {
   "cell_type": "code",
   "execution_count": null,
   "metadata": {},
   "outputs": [],
   "source": [
    "cost_function=StereoCost.SSD\n",
    "aggregation_function=fixed_window(5)\n",
    "disparity_computation=DisparityComputation(strategy='dynamic-programming')\n",
    "disparity_refinement=None\n",
    "StereoPipeline(image_name,\n",
    "                cost_function, \n",
    "                aggregation_function,\n",
    "                disparity_computation,\n",
    "                disparity_refinement,\n",
    "                max_disparity=96).compute_disparity_map()"
   ]
  }
 ],
 "metadata": {
  "kernelspec": {
   "display_name": "stereo",
   "language": "python",
   "name": "python3"
  },
  "language_info": {
   "codemirror_mode": {
    "name": "ipython",
    "version": 3
   },
   "file_extension": ".py",
   "mimetype": "text/x-python",
   "name": "python",
   "nbconvert_exporter": "python",
   "pygments_lexer": "ipython3",
   "version": "3.10.0"
  },
  "orig_nbformat": 4
 },
 "nbformat": 4,
 "nbformat_minor": 2
}
